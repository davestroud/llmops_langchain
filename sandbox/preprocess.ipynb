{
 "cells": [
  {
   "cell_type": "code",
   "execution_count": 2,
   "metadata": {},
   "outputs": [],
   "source": [
    "import pandas as pd\n",
    "\n",
    "# Load the dataset\n",
    "file_path = 'flattened_comments.csv'\n",
    "df = pd.read_csv(file_path)\n",
    "\n",
    "# Display the first few rows\n",
    "#print(df.head())\n"
   ]
  },
  {
   "cell_type": "code",
   "execution_count": null,
   "metadata": {},
   "outputs": [],
   "source": [
    "# Drop duplicates\n",
    "df = df.drop_duplicates()\n",
    "\n",
    "# Drop rows with missing critical fields\n",
    "df = df.dropna(subset=['comment_text', 'video_id'])\n",
    "\n",
    "# Normalize text\n",
    "df['comment_text'] = df['comment_text'].str.lower().str.replace(r'[^\\w\\s]', '', regex=True)\n",
    "\n",
    "# Check data statistics\n",
    "print(df.info())\n"
   ]
  },
  {
   "cell_type": "code",
   "execution_count": null,
   "metadata": {},
   "outputs": [],
   "source": [
    "df['metadata'] = df.apply(lambda row: {\n",
    "    'video_id': row['video_id'],\n",
    "    'publish_channel': row['publish_channel'],\n",
    "    'title': row['title'],\n",
    "    'comment_votes': row['comment_votes'],\n",
    "    'comment_heart': row['comment_heart'],\n",
    "    'comment_reply': row['comment_reply']\n",
    "}, axis=1)\n"
   ]
  },
  {
   "cell_type": "code",
   "execution_count": null,
   "metadata": {},
   "outputs": [],
   "source": [
    "df[['comment_text', 'metadata']].to_json('preprocessed_comments.json', orient='records', lines=True)\n"
   ]
  }
 ],
 "metadata": {
  "kernelspec": {
   "display_name": "llm_ops",
   "language": "python",
   "name": "python3"
  },
  "language_info": {
   "codemirror_mode": {
    "name": "ipython",
    "version": 3
   },
   "file_extension": ".py",
   "mimetype": "text/x-python",
   "name": "python",
   "nbconvert_exporter": "python",
   "pygments_lexer": "ipython3",
   "version": "3.12.8"
  }
 },
 "nbformat": 4,
 "nbformat_minor": 2
}
