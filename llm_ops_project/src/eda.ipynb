{
 "cells": [
  {
   "cell_type": "code",
   "execution_count": 2,
   "metadata": {},
   "outputs": [
    {
     "name": "stdout",
     "output_type": "stream",
     "text": [
      "DatasetDict({\n",
      "    train: Dataset({\n",
      "        features: ['id', 'publish_channel', 'title', 'start_duration', 'end_duration', 'lengthSeconds', 'total_comments', 'total_unique_users', 'comments'],\n",
      "        num_rows: 310\n",
      "    })\n",
      "})\n",
      "{'id': 'FUzLx1l37RE', 'publish_channel': 'NBCNews', 'title': 'Blinken reiterates Israel support but urges restraint as Gaza casualties rise', 'start_duration': '2023-11-03 19:38:34', 'end_duration': '2023-11-04 17:38:34', 'lengthSeconds': 241, 'total_comments': 25, 'total_unique_users': 21, 'comments': [{'author': '@LMLewis', 'channel': 'UCNUa3f8nwYg-Kn1v4u5wrtQ', 'cid': 'UgxbXce9xz7a27nVOyl4AaABAg', 'heart': False, 'reply': False, 'text': \"Blinken deserves to be known as the Butcher of Foggy Bottom, using empty words to try to deflect criticism of the US government's participation in genocide.\", 'time': '2 hours ago', 'time_parsed': 1699119514.753521, 'votes': '0'}, {'author': '@lovellewilliams5531', 'channel': 'UCm9ztdJUAMpUNipdNxAHN_g', 'cid': 'Ugx7aiPfji7zYkmV1k54AaABAg', 'heart': False, 'reply': False, 'text': 'The United States are supporting the killing of civilians', 'time': '4 hours ago', 'time_parsed': 1699112314.761907, 'votes': '0'}, {'author': '@noryaminmatariffin3029', 'channel': 'UCCyvX_gd5zANsFYXnDBpuXw', 'cid': 'UgywKu6FT8TWbssFsnJ4AaABAg', 'heart': False, 'reply': False, 'text': 'So why hospitals, ambulance, civiliance, refuge camp  are bombing is IDF blind! or you just a clown', 'time': '16 hours ago', 'time_parsed': 1699069114.765152, 'votes': '0'}, {'author': '@Not_Today___', 'channel': 'UCmicKai8OhhPUpOfG3VTFvA', 'cid': 'UgwXQG7Qt7HVKsSTC7F4AaABAg', 'heart': False, 'reply': False, 'text': \"I'm an American. I think this war started on October 7th and that before that Israel never did anything wrong. I have the right to free speech and I'm gonna use it, even though I'm this: 🤣\", 'time': '1 day ago', 'time_parsed': 1699040314.767844, 'votes': '0'}, {'author': '@benzo2632', 'channel': 'UCA0boZvrgR4mbnQ2Bi65QKQ', 'cid': 'UgxnJo7jgnD3Qcg6aAB4AaABAg', 'heart': False, 'reply': False, 'text': 'WAR CRIMES SUPORTED BY USA ,,,,', 'time': '1 day ago', 'time_parsed': 1699040314.770364, 'votes': '0'}, {'author': '@user-qv8df9vj2o', 'channel': 'UC-Baw05GshLeME66jZATaxQ', 'cid': 'UgwjxKZSnh0dInohdUl4AaABAg', 'heart': False, 'reply': False, 'text': 'Used to like Peter until he became Joe Scarboroughs little B . \\nA TDS clown.', 'time': '1 day ago', 'time_parsed': 1699040314.772846, 'votes': '1'}, {'author': '@Dayjob351', 'channel': 'UCbw3u9eHpBxCNVvDRrO4BMA', 'cid': 'UgzCRt4DbkOVWrpGYWR4AaABAg', 'heart': False, 'reply': False, 'text': 'Now live with the afterwampt', 'time': '1 day ago', 'time_parsed': 1699040314.775307, 'votes': '0'}, {'author': '@Dayjob351', 'channel': 'UCbw3u9eHpBxCNVvDRrO4BMA', 'cid': 'UgzZdxprji59Qqv5myF4AaABAg', 'heart': False, 'reply': False, 'text': 'Hamas started it', 'time': '1 day ago', 'time_parsed': 1699040314.777768, 'votes': '0'}, {'author': '@oflores7457', 'channel': 'UC_4v92y1Qk687Di3Vu-ZbfA', 'cid': 'UgzoyELGG-iEahlDeu94AaABAg', 'heart': False, 'reply': False, 'text': 'The doctor confirmed it the hammas are next to hospital and shelter places..', 'time': '1 day ago', 'time_parsed': 1699040314.780171, 'votes': '0'}, {'author': '@oflores7457', 'channel': 'UC_4v92y1Qk687Di3Vu-ZbfA', 'cid': 'UgzGBeNlo4puFp-ckZZ4AaABAg', 'heart': False, 'reply': False, 'text': '😂😂 th is a clown show anyone who knows the law knows it …', 'time': '1 day ago', 'time_parsed': 1699040314.782675, 'votes': '0'}, {'author': '@joshgarnand4038', 'channel': 'UC7ETE7E7gtVyCZ0vLFmTZ8Q', 'cid': 'UgxhWuJz6nt93kQuQCR4AaABAg', 'heart': False, 'reply': False, 'text': \"everyone is dying. well actually only the Palestinians are dying unlike in the hamas attacks. during those everyone was dying... except Palestinians. Americans Germans fillipinos gimme a break no one cares anymore you lot haven't been civilized for 1000s of years.\", 'time': '1 day ago', 'time_parsed': 1699040314.785177, 'votes': '0'}, {'author': '@shootingsportstransparency7461', 'channel': 'UCR41zklK_ERZ99PRI3nyxnw', 'cid': 'Ugz431XfZWVFUpdeDpJ4AaABAg', 'heart': False, 'reply': False, 'text': \"It's just a shame that the descendants of victims of the holocaust have now become the perpetrators of this gen0cide on Palestine civilians\", 'time': '1 day ago', 'time_parsed': 1699040314.78772, 'votes': '0'}, {'author': '@maxvitionunity', 'channel': 'UCxsMcmpge46s8Nsmb4Ir83w', 'cid': 'Ugx0dwP7KUWu70QOjGl4AaABAg', 'heart': False, 'reply': False, 'text': 'There No Consequence. When No One Know it And Leave it There. ( Sarcasms )', 'time': '1 day ago', 'time_parsed': 1699040314.790268, 'votes': '0'}, {'author': '@hollehpazouki7623', 'channel': 'UCX-xhNPNaWA5EORhytLvNQQ', 'cid': 'UgzaBaYcUXP6_rrn3l94AaABAg', 'heart': False, 'reply': False, 'text': 'How come you did not show any support to the women in Iran? What democracy are u talking about????', 'time': '1 day ago', 'time_parsed': 1699040314.792801, 'votes': '1'}, {'author': '@nukerzerothefirst3417', 'channel': 'UCsjc0ugpi7Vgml7gW1sfaEg', 'cid': 'UgxZbW-U_UkvXHMpFzF4AaABAg', 'heart': False, 'reply': False, 'text': 'Blinken  is Jewish totally bias sits on his hands while Israeli murder Palestinian children by the thousands', 'time': '1 day ago', 'time_parsed': 1699040314.795823, 'votes': '0'}, {'author': '@alooga555', 'channel': 'UC0t1fjyFF_f6sBP8b5uuV4g', 'cid': 'UgwCTiFp-qgeLtJtPGp4AaABAg', 'heart': False, 'reply': False, 'text': 'Send Blinken to Ukraine instead. The Z Man says he misses the man.', 'time': '1 day ago', 'time_parsed': 1699040314.798592, 'votes': '2'}, {'author': '@FontaineDerby', 'channel': 'UCeKj0BKN1ig9ccx37GsEExA', 'cid': 'Ugz_uAPZU5FlG5ADD9d4AaABAg', 'heart': False, 'reply': False, 'text': 'In March 2019, Netanyahu told his Likud colleagues: “Anyone who wants to thwart the establishment of a Palestinian state has to support bolstering Hamas and transferring money to Hamas … This is part of our strategy – to isolate the Palestinians in Gaza from the Palestinians in the West Bank.”\\n\\nBrig. Gen. Yitzhak Segev, who was the Israeli military governor in Gaza in the early 1980s. Segev later told a New York Times reporter that he had helped finance the Palestinian Islamist movement as a “counterweight” to the secularists and leftists of the Palestine Liberation Organization and the Fatah party, led by Yasser Arafat (who himself referred to Hamas as “a creature of Israel.”)\\n\\n“The Israeli government gave me a budget,” the retired brigadier general confessed, “and the military government gives to the mosques.”\\n\\n“Hamas, to my great regret, is Israel’s creation,” Avner Cohen, a former Israeli religious affairs official who worked in Gaza for more than two decades, told the Wall Street Journal in 2009. Back in the mid-1980s, Cohen even wrote an official report to his superiors warning them not to play divide-and-rule in the Occupied Territories, by backing Palestinian Islamists against Palestinian secularists. “I … suggest focusing our efforts on finding ways to break up this monster before this reality jumps in our face,” he wrote.\\n\\nSources:\\n\\nHansard Israel/Gaza\\nVolume 833: debated on Tuesday 24 October 2023\\n\\nFor years, Netanyahu propped up Hamas. Now it’s blown up in our faces - The premier’s policy of treating the terror group as a partner, at the expense of Abbas and Palestinian statehood, has resulted in wounds that will take Israel years to heal from\\nBy\\xa0TAL SCHNEIDER Times of Israel \\n8 October 2023, 3:58 pm\\xa0\\xa0\\n\\nNetanyahu: Money to Hamas part of strategy to keep Palestinians divided\\nJerusalem Post 12 March 2019\\n\\nAlso: The Guardian 20 Oct 2023', 'time': '1 day ago', 'time_parsed': 1699040314.801463, 'votes': '5'}, {'author': '@JC-wp7sn', 'channel': 'UC60ewdSGwl_IjJYHbsgVf8Q', 'cid': 'Ugx5U0Y9nStUAsuqBj94AaABAg', 'heart': False, 'reply': False, 'text': 'If we had a real president with any balls and brains, the oil sanctions on Iran would still be enforced and then Iran would not have been making billions every month to fund Hamas and other terror groups and launch attacks on our troops. Another in a very long list of failures for Biden.', 'time': '1 day ago', 'time_parsed': 1699040314.804186, 'votes': '0'}, {'author': '@smileydavis73', 'channel': 'UCv2uWAZIDRHFjcQu4WXRbeQ', 'cid': 'UgxZSTNIwuIOTZaZuV54AaABAg', 'heart': False, 'reply': False, 'text': 'Consequences. You become who you associate with.', 'time': '1 day ago', 'time_parsed': 1699040314.806831, 'votes': '3'}, {'author': '@puululos', 'channel': 'UCHL7aZj7G4zqtnUjVa-drSQ', 'cid': 'Ugx7QyK-77KqZTTEkD94AaABAg', 'heart': False, 'reply': False, 'text': 'occupation colonialiste state is called a victim while occupied poeple are called terrorists', 'time': '1 day ago', 'time_parsed': 1699040314.80943, 'votes': '4'}, {'author': '@MegaFarah78', 'channel': 'UC56JgU_1mGfZn2mpGd5ljJg', 'cid': 'UgzaBaYcUXP6_rrn3l94AaABAg.9wcqr2hHvXc9we-vmeKFRd', 'heart': False, 'reply': True, 'text': 'what a propganda  code  coming from América empire', 'time': '1 day ago', 'time_parsed': 1699040314.966108, 'votes': '0'}, {'author': '@smileydavis73', 'channel': 'UCv2uWAZIDRHFjcQu4WXRbeQ', 'cid': 'Ugx7QyK-77KqZTTEkD94AaABAg.9wcf1z8nUls9wcfWUB1LSh', 'heart': False, 'reply': True, 'text': 'They are', 'time': '1 day ago', 'time_parsed': 1699040315.172211, 'votes': '0'}, {'author': '@Yv1o5', 'channel': 'UC3eKDQl_fODlt6cwio42IYg', 'cid': 'Ugx7QyK-77KqZTTEkD94AaABAg.9wcf1z8nUls9wd68BvN_hc', 'heart': False, 'reply': True, 'text': 'Hamas center near the U.N. The truth that many outlets won’t say but this woman confessed. Hamas know what they are doing and should be held responsible for civilian  death and suffering, yet those are the positions they use to attack', 'time': '1 day ago', 'time_parsed': 1699040315.174992, 'votes': '0'}, {'author': '@Yv1o5', 'channel': 'UC3eKDQl_fODlt6cwio42IYg', 'cid': 'Ugx7QyK-77KqZTTEkD94AaABAg.9wcf1z8nUls9wd6XU0kvLt', 'heart': False, 'reply': True, 'text': 'Also this is Jewish homeland from thousands of years ago. The area was called Palestine during Roman empire, and with different rulers and conquests-the Jews were displaced but they eventually came back to their homeland. The current Gaza residents came from Egypt, Jordan, Syria, Lebanon', 'time': '1 day ago', 'time_parsed': 1699040315.17763, 'votes': '1'}, {'author': '@Owl350', 'channel': 'UCL93lp0Qw5KhmQ_SWzF3EoA', 'cid': 'Ugyw_xCaUqx96mo-EEJ4AaABAg', 'heart': False, 'reply': False, 'text': \"These are propaganda commercials after the false flag attack . The US doesn't need a military an the military industrial complex needs to be stopped !\", 'time': '1 day ago', 'time_parsed': 1699040315.364603, 'votes': '0'}]}\n"
     ]
    }
   ],
   "source": [
    "from datasets import load_dataset\n",
    "\n",
    "# Load the dataset from Hugging Face\n",
    "dataset = load_dataset(\"alsubari/Israel-palestine-war\")\n",
    "\n",
    "# Access specific splits or rows\n",
    "print(dataset)  # Prints information about the dataset\n",
    "print(dataset['train'][0])  # Prints the first entry in the 'train' split\n"
   ]
  },
  {
   "cell_type": "code",
   "execution_count": 3,
   "metadata": {},
   "outputs": [
    {
     "name": "stdout",
     "output_type": "stream",
     "text": [
      "      video_id publish_channel  \\\n",
      "0  FUzLx1l37RE         NBCNews   \n",
      "1  FUzLx1l37RE         NBCNews   \n",
      "2  FUzLx1l37RE         NBCNews   \n",
      "3  FUzLx1l37RE         NBCNews   \n",
      "4  FUzLx1l37RE         NBCNews   \n",
      "\n",
      "                                               title           comment_author  \\\n",
      "0  Blinken reiterates Israel support but urges re...                 @LMLewis   \n",
      "1  Blinken reiterates Israel support but urges re...     @lovellewilliams5531   \n",
      "2  Blinken reiterates Israel support but urges re...  @noryaminmatariffin3029   \n",
      "3  Blinken reiterates Israel support but urges re...            @Not_Today___   \n",
      "4  Blinken reiterates Israel support but urges re...               @benzo2632   \n",
      "\n",
      "                                        comment_text  comment_time  \\\n",
      "0  Blinken deserves to be known as the Butcher of...   2 hours ago   \n",
      "1  The United States are supporting the killing o...   4 hours ago   \n",
      "2  So why hospitals, ambulance, civiliance, refug...  16 hours ago   \n",
      "3  I'm an American. I think this war started on O...     1 day ago   \n",
      "4                    WAR CRIMES SUPORTED BY USA ,,,,     1 day ago   \n",
      "\n",
      "  comment_votes  comment_heart  comment_reply  \n",
      "0             0          False          False  \n",
      "1             0          False          False  \n",
      "2             0          False          False  \n",
      "3             0          False          False  \n",
      "4             0          False          False  \n"
     ]
    }
   ],
   "source": [
    "import pandas as pd\n",
    "\n",
    "# Convert dataset to pandas DataFrame\n",
    "train_data = dataset['train']\n",
    "\n",
    "# List to store flattened comments\n",
    "flattened_comments = []\n",
    "\n",
    "# Iterate through each row in the dataset\n",
    "for entry in train_data:\n",
    "    video_id = entry['id']\n",
    "    publish_channel = entry['publish_channel']\n",
    "    title = entry['title']\n",
    "    \n",
    "    # Extract and flatten comments\n",
    "    for comment in entry['comments']:\n",
    "        flattened_comment = {\n",
    "            'video_id': video_id,\n",
    "            'publish_channel': publish_channel,\n",
    "            'title': title,\n",
    "            'comment_author': comment['author'],\n",
    "            'comment_text': comment['text'],\n",
    "            'comment_time': comment['time'],\n",
    "            'comment_votes': comment['votes'],\n",
    "            'comment_heart': comment['heart'],\n",
    "            'comment_reply': comment['reply']\n",
    "        }\n",
    "        flattened_comments.append(flattened_comment)\n",
    "\n",
    "# Convert flattened comments to a DataFrame\n",
    "flattened_comments_df = pd.DataFrame(flattened_comments)\n",
    "\n",
    "# Display the flattened DataFrame\n",
    "print(flattened_comments_df.head())\n",
    "\n",
    "# Save the flattened comments to a CSV file for further analysis\n",
    "flattened_comments_df.to_csv(\"flattened_comments.csv\", index=False)\n"
   ]
  }
 ],
 "metadata": {
  "kernelspec": {
   "display_name": "llm_ops",
   "language": "python",
   "name": "python3"
  },
  "language_info": {
   "codemirror_mode": {
    "name": "ipython",
    "version": 3
   },
   "file_extension": ".py",
   "mimetype": "text/x-python",
   "name": "python",
   "nbconvert_exporter": "python",
   "pygments_lexer": "ipython3",
   "version": "3.12.8"
  }
 },
 "nbformat": 4,
 "nbformat_minor": 2
}
