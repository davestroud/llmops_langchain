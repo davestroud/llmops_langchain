{
 "cells": [
  {
   "cell_type": "code",
   "execution_count": 7,
   "metadata": {},
   "outputs": [],
   "source": [
    "\n",
    "# Import necessary libraries\n",
    "import os\n",
    "import numpy as np\n",
    "import pandas as pd\n",
    "from pinecone import Pinecone\n",
    "from sklearn.decomposition import PCA\n",
    "from sklearn.manifold import TSNE\n",
    "import matplotlib.pyplot as plt\n",
    "from dotenv import load_dotenv"
   ]
  },
  {
   "cell_type": "code",
   "execution_count": 8,
   "metadata": {},
   "outputs": [],
   "source": [
    "# Load environment variables\n",
    "load_dotenv()\n",
    "PINECONE_API_KEY = os.getenv(\"PINECONE_API_KEY\")\n",
    "PINECONE_ENV = os.getenv(\"PINECONE_ENV\")"
   ]
  },
  {
   "cell_type": "code",
   "execution_count": 11,
   "metadata": {},
   "outputs": [],
   "source": [
    "# Initialize Pinecone\n",
    "#pinecone.init(api_key=PINECONE_API_KEY, environment=PINECONE_ENV)\n",
    "# Create an instance of the Pinecone class\n",
    "pinecone_instance = Pinecone(api_key=PINECONE_API_KEY, environment=PINECONE_ENV)\n",
    "\n",
    "# Connect to the Pinecone index\n",
    "INDEX_NAME = \"semantic-search-fast\"\n",
    "index = pinecone_instance.Index(INDEX_NAME)"
   ]
  },
  {
   "cell_type": "code",
   "execution_count": 12,
   "metadata": {},
   "outputs": [],
   "source": [
    "# Fetch embeddings from Pinecone\n",
    "def fetch_embeddings(index, namespace=None, num_vectors=100):\n",
    "    \"\"\"\n",
    "    Fetch embeddings from Pinecone index.\n",
    "    Args:\n",
    "        index: Pinecone index object.\n",
    "        namespace: Namespace to fetch embeddings from.\n",
    "        num_vectors: Number of embeddings to fetch.\n",
    "    Returns:\n",
    "        A list of vectors and their metadata.\n",
    "    \"\"\"\n",
    "    vectors = index.query(\n",
    "        namespace=namespace, vector=[], top_k=num_vectors, include_metadata=True\n",
    "    )['matches']\n",
    "    embeddings = [match['values'] for match in vectors]\n",
    "    metadata = [match['metadata'] for match in vectors]\n",
    "    return embeddings, metadata\n",
    "\n",
    "embeddings, metadata = fetch_embeddings(index, namespace=\"example-namespace\")"
   ]
  },
  {
   "cell_type": "code",
   "execution_count": 13,
   "metadata": {},
   "outputs": [],
   "source": [
    "# Convert embeddings to NumPy array\n",
    "embeddings_array = np.array(embeddings)"
   ]
  },
  {
   "cell_type": "code",
   "execution_count": 15,
   "metadata": {},
   "outputs": [],
   "source": [
    "# Dimensionality Reduction for Visualization\n",
    "def reduce_dimensions(embeddings, method=\"pca\", n_components=2):\n",
    "    \"\"\"\n",
    "    Reduce the dimensions of embeddings for visualization.\n",
    "    Args:\n",
    "        embeddings: Array of embeddings.\n",
    "        method: Dimensionality reduction method ('pca' or 'tsne').\n",
    "        n_components: Number of dimensions for reduction.\n",
    "    Returns:\n",
    "        Reduced embeddings.\n",
    "    \"\"\"\n",
    "    if method == \"pca\":\n",
    "        reducer = PCA(n_components=n_components)\n",
    "    elif method == \"tsne\":\n",
    "        reducer = TSNE(n_components=n_components, perplexity=30, random_state=42)\n",
    "    else:\n",
    "        raise ValueError(\"Invalid method. Choose 'pca' or 'tsne'.\")\n",
    "    return reducer.fit_transform(embeddings)\n",
    "\n",
    "# Apply PCA\n",
    "if len(embeddings_array) > 0:\n",
    "    reduced_embeddings = reduce_dimensions(embeddings_array, method=\"pca\")\n",
    "else:\n",
    "    reduced_embeddings = np.array([])"
   ]
  },
  {
   "cell_type": "code",
   "execution_count": 17,
   "metadata": {},
   "outputs": [
    {
     "name": "stdout",
     "output_type": "stream",
     "text": [
      "No embeddings to plot\n"
     ]
    }
   ],
   "source": [
    "# Visualize Embeddings\n",
    "def plot_embeddings(reduced_embeddings, metadata, title=\"Embeddings Visualization\"):\n",
    "    \"\"\"\n",
    "    Plot embeddings in 2D space.\n",
    "    Args:\n",
    "        reduced_embeddings: 2D embeddings after dimensionality reduction.\n",
    "        metadata: Metadata corresponding to the embeddings.\n",
    "        title: Plot title.\n",
    "    \"\"\"\n",
    "    plt.figure(figsize=(10, 8))\n",
    "    plt.scatter(reduced_embeddings[:, 0], reduced_embeddings[:, 1], alpha=0.7)\n",
    "    for i, meta in enumerate(metadata):\n",
    "        plt.text(reduced_embeddings[i, 0], reduced_embeddings[i, 1], meta.get(\"label\", \"\"), fontsize=9)\n",
    "    plt.title(title)\n",
    "    plt.xlabel(\"Dimension 1\")\n",
    "    plt.ylabel(\"Dimension 2\")\n",
    "    plt.grid(True)\n",
    "    plt.show()\n",
    "\n",
    "# Plot the embeddings\n",
    "if len(reduced_embeddings) > 0:\n",
    "    # Reshape to 2D array if needed\n",
    "    if reduced_embeddings.ndim == 1:\n",
    "        reduced_embeddings = reduced_embeddings.reshape(-1, 1)\n",
    "    plot_embeddings(reduced_embeddings, metadata, title=\"PCA Visualization of Embeddings\")\n",
    "else:\n",
    "    print(\"No embeddings to plot\")"
   ]
  },
  {
   "cell_type": "code",
   "execution_count": 20,
   "metadata": {},
   "outputs": [
    {
     "data": {
      "text/plain": [
       "{}"
      ]
     },
     "execution_count": 20,
     "metadata": {},
     "output_type": "execute_result"
    }
   ],
   "source": [
    "# Cleanup Pinecone\n",
    "index.delete(delete_all=True)"
   ]
  },
  {
   "cell_type": "code",
   "execution_count": null,
   "metadata": {},
   "outputs": [],
   "source": []
  }
 ],
 "metadata": {
  "kernelspec": {
   "display_name": "llm_ops",
   "language": "python",
   "name": "python3"
  },
  "language_info": {
   "codemirror_mode": {
    "name": "ipython",
    "version": 3
   },
   "file_extension": ".py",
   "mimetype": "text/x-python",
   "name": "python",
   "nbconvert_exporter": "python",
   "pygments_lexer": "ipython3",
   "version": "3.12.8"
  }
 },
 "nbformat": 4,
 "nbformat_minor": 2
}
