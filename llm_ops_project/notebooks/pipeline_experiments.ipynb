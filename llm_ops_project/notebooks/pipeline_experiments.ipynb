{
 "cells": [
  {
   "cell_type": "code",
   "execution_count": 2,
   "metadata": {},
   "outputs": [],
   "source": [
    "# pipeline_experiments.ipynb\n",
    "\n",
    "# Importing required libraries and modules\n",
    "import os\n",
    "from src.base.kubeflow_client import KubeflowClient\n",
    "from src.base.pinecone_handler import PineconeHandler\n",
    "from src.prompt_engineering.chain_builder import ChainBuilder\n",
    "from src.utils.logger import setup_logging\n",
    "from langchain.chains import LLMChain\n",
    "from langchain.prompts import PromptTemplate\n",
    "from langchain.llms import OpenAI\n",
    "#from data.prompts import sample_prompt # TODO: Add this back in\n"
   ]
  },
  {
   "cell_type": "code",
   "execution_count": null,
   "metadata": {},
   "outputs": [],
   "source": []
  }
 ],
 "metadata": {
  "kernelspec": {
   "display_name": "llm_ops",
   "language": "python",
   "name": "python3"
  },
  "language_info": {
   "codemirror_mode": {
    "name": "ipython",
    "version": 3
   },
   "file_extension": ".py",
   "mimetype": "text/x-python",
   "name": "python",
   "nbconvert_exporter": "python",
   "pygments_lexer": "ipython3",
   "version": "3.12.8"
  }
 },
 "nbformat": 4,
 "nbformat_minor": 2
}
