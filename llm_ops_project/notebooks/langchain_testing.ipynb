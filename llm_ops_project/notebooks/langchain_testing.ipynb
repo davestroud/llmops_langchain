{
 "cells": [
  {
   "cell_type": "code",
   "execution_count": 37,
   "metadata": {},
   "outputs": [],
   "source": [
    "# Import necessary libraries\n",
    "import os\n",
    "from dotenv import load_dotenv\n",
    "from pinecone import Pinecone, ServerlessSpec\n",
    "from langchain.vectorstores import Pinecone as LangchainPinecone\n",
    "from langchain.embeddings import HuggingFaceEmbeddings\n",
    "from langchain.chains import RetrievalQA\n",
    "from langchain.llms import HuggingFacePipeline\n",
    "from transformers import pipeline"
   ]
  },
  {
   "cell_type": "code",
   "execution_count": 26,
   "metadata": {},
   "outputs": [
    {
     "data": {
      "text/plain": [
       "True"
      ]
     },
     "execution_count": 26,
     "metadata": {},
     "output_type": "execute_result"
    }
   ],
   "source": [
    "# Load environment variables from the .env file\n",
    "load_dotenv(dotenv_path='../.env')"
   ]
  },
  {
   "cell_type": "code",
   "execution_count": 27,
   "metadata": {},
   "outputs": [],
   "source": [
    "# Retrieve Pinecone API details from environment variables\n",
    "PINECONE_API_KEY = os.getenv(\"PINECONE_API_KEY\")\n",
    "PINECONE_ENV = os.getenv(\"PINECONE_ENV\")\n",
    "INDEX_NAME = \"semantic-search-fast\"  # Replace with your desired index name"
   ]
  },
  {
   "cell_type": "code",
   "execution_count": 28,
   "metadata": {},
   "outputs": [],
   "source": [
    "# Initialize Pinecone using the new API\n",
    "pc = Pinecone(\n",
    "    api_key=PINECONE_API_KEY,\n",
    "    serverless_spec=ServerlessSpec(\n",
    "        region=PINECONE_ENV,\n",
    "        cloud=\"aws\"\n",
    "    )\n",
    ")"
   ]
  },
  {
   "cell_type": "code",
   "execution_count": 5,
   "metadata": {},
   "outputs": [],
   "source": [
    "# # Create the index if it doesn't exist\n",
    "# if INDEX_NAME not in pc.list_indexes():\n",
    "#     pc.create_index(\n",
    "#         name=INDEX_NAME,\n",
    "#         dimension=768  # Match the dimensionality of your embeddings\n",
    "#     )"
   ]
  },
  {
   "cell_type": "code",
   "execution_count": 29,
   "metadata": {},
   "outputs": [],
   "source": [
    "# Connect to the Pinecone index\n",
    "index = pc.Index(INDEX_NAME)"
   ]
  },
  {
   "cell_type": "code",
   "execution_count": 30,
   "metadata": {},
   "outputs": [],
   "source": [
    "# Load embeddings\n",
    "embedding_model_name = \"sentence-transformers/all-MiniLM-L6-v2\"\n",
    "embeddings = HuggingFaceEmbeddings(model_name=embedding_model_name)"
   ]
  },
  {
   "cell_type": "code",
   "execution_count": 31,
   "metadata": {},
   "outputs": [],
   "source": [
    "# Example documents to index\n",
    "documents = [\n",
    "    {\"text\": \"LangChain is a framework for developing applications powered by LLMs.\"},\n",
    "    {\"text\": \"LLaMA is a family of large language models developed by Meta.\"},\n",
    "    {\"text\": \"Pinecone is a vector database for machine learning applications.\"}\n",
    "]"
   ]
  },
  {
   "cell_type": "code",
   "execution_count": 32,
   "metadata": {},
   "outputs": [],
   "source": [
    "# Add documents to Pinecone index\n",
    "texts = [doc[\"text\"] for doc in documents]\n",
    "ids = [str(i) for i in range(len(documents))]\n",
    "vectors = embeddings.embed_documents(texts)\n",
    "\n",
    "for vector, id_ in zip(vectors, ids):\n",
    "    index.upsert([(id_, vector)])"
   ]
  },
  {
   "cell_type": "code",
   "execution_count": 33,
   "metadata": {},
   "outputs": [
    {
     "name": "stderr",
     "output_type": "stream",
     "text": [
      "Device set to use cpu\n"
     ]
    }
   ],
   "source": [
    "# Load the LLaMA model\n",
    "model_name = \"EleutherAI/gpt-neo-125M\"  # Replace with your model's Hugging Face path\n",
    "llama_pipeline = pipeline(\"text-generation\", model=model_name, device=-1)\n",
    "llm = HuggingFacePipeline(pipeline=llama_pipeline)\n"
   ]
  },
  {
   "cell_type": "code",
   "execution_count": 38,
   "metadata": {},
   "outputs": [],
   "source": [
    "# Build the Pinecone retriever\n",
    "retriever = Pinecone(\n",
    "    index=index,  # Use the Pinecone index\n",
    "    embedding=embeddings,  # Pass the embeddings object\n",
    "    text_key=\"text\"  # Specify the key in your documents that contains the text\n",
    ")\n",
    "\n",
    "# Build the RetrievalQA chain\n",
    "qa_chain = RetrievalQA.from_chain_type(\n",
    "    llm=llm,\n",
    "    retriever=retriever,  # Use the retriever directly since Pinecone is already a retriever\n",
    "    chain_type=\"stuff\"\n",
    ")\n"
   ]
  },
  {
   "cell_type": "code",
   "execution_count": 41,
   "metadata": {},
   "outputs": [],
   "source": [
    "# # Test the QA system using the updated invoke method\n",
    "# query = \"What is LangChain?\"\n",
    "# response = qa_chain.invoke({\"query\": query})\n",
    "\n",
    "# print(f\"Question: {query}\")\n",
    "# print(f\"Answer: {response}\")\n"
   ]
  },
  {
   "cell_type": "code",
   "execution_count": 42,
   "metadata": {},
   "outputs": [],
   "source": [
    "#### Make sure we turn off pinecone serverless"
   ]
  },
  {
   "cell_type": "code",
   "execution_count": null,
   "metadata": {},
   "outputs": [],
   "source": []
  }
 ],
 "metadata": {
  "kernelspec": {
   "display_name": "llm_ops",
   "language": "python",
   "name": "python3"
  },
  "language_info": {
   "codemirror_mode": {
    "name": "ipython",
    "version": 3
   },
   "file_extension": ".py",
   "mimetype": "text/x-python",
   "name": "python",
   "nbconvert_exporter": "python",
   "pygments_lexer": "ipython3",
   "version": "3.12.8"
  }
 },
 "nbformat": 4,
 "nbformat_minor": 2
}
